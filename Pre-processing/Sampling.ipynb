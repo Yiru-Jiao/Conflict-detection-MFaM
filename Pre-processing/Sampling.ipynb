{
 "cells": [
  {
   "cell_type": "markdown",
   "metadata": {},
   "source": [
    "# 1 Import libraries and load data"
   ]
  },
  {
   "cell_type": "markdown",
   "metadata": {},
   "source": [
    "## 1.1 Import libaries"
   ]
  },
  {
   "cell_type": "code",
   "execution_count": 1,
   "metadata": {},
   "outputs": [],
   "source": [
    "import glob\n",
    "import time as systime\n",
    "from tqdm import tqdm\n",
    "import pandas as pd\n",
    "import numpy as np\n",
    "import matplotlib.pyplot as plt\n",
    "font = {'family' : 'Arial',\n",
    "        'size'   : 9}\n",
    "plt.rc('font', **font)\n",
    "from IPython.display import display, clear_output\n",
    "import warnings\n",
    "warnings.filterwarnings('ignore')\n",
    "\n",
    "parent_dir = r'U:/Vehicle Coordination Yiru'"
   ]
  },
  {
   "cell_type": "markdown",
   "metadata": {},
   "source": [
    "## 1.2 Global functions"
   ]
  },
  {
   "cell_type": "code",
   "execution_count": 2,
   "metadata": {},
   "outputs": [],
   "source": [
    "# Define functions\n",
    "def determine_conflicts(samples):\n",
    "    samples['conflict_1'] = (samples['ttc']<3)\n",
    "    samples['conflict_2'] = False\n",
    "    samples.loc[(samples['speed']>=20)&(samples['ttc']<4), 'conflict_2'] = True\n",
    "    samples.loc[(samples['speed']>=8)&(samples['speed']<20)&(samples['ttc']<3), 'conflict_2'] = True\n",
    "    samples.loc[(samples['speed']>=3)&(samples['speed']<8)&(samples['ttc']<2), 'conflict_2'] = True\n",
    "    samples.loc[(samples['speed']<3)&(samples['s']/samples['speed']<1), 'conflict_2'] = True\n",
    "\n",
    "    return samples\n",
    "\n",
    "\n",
    "def Grouping(samples, vehnum):\n",
    "    samples = samples.sort_values(by='v')\n",
    "    samples['round_v'] = np.round(samples.v,1)\n",
    "    groups = samples.groupby('round_v').v.count()\n",
    "    try:\n",
    "        threshold = groups[groups>=vehnum].index[-1]\n",
    "        sample1 = []\n",
    "        for roundv in samples[samples.round_v<=threshold].round_v.unique():\n",
    "            sample1.append(samples[samples.round_v==roundv])\n",
    "        sample1 = pd.concat(sample1)\n",
    "        print('--- '+str(roundv)+' ----')\n",
    "    except:\n",
    "        threshold = 0\n",
    "        sample1 = samples[samples.round_v<0].copy()\n",
    "    sample2 = samples[samples.round_v>threshold].copy()\n",
    "    sample2['round_v'] = np.arange(len(sample2))//vehnum\n",
    "    sample2['round_v'] = (np.round(sample2.groupby('round_v').v.mean(),1)).reindex(sample2.round_v).values\n",
    "    samples = pd.concat((sample1, sample2))\n",
    "\n",
    "    return samples"
   ]
  },
  {
   "cell_type": "markdown",
   "metadata": {},
   "source": [
    "# 2 highD"
   ]
  },
  {
   "cell_type": "code",
   "execution_count": 3,
   "metadata": {},
   "outputs": [
    {
     "name": "stderr",
     "output_type": "stream",
     "text": [
      "100%|██████████| 6/6 [00:38<00:00,  6.39s/it]\n"
     ]
    }
   ],
   "source": [
    "## Load data\n",
    "data_all = []\n",
    "for loc in tqdm(['highD_0'+str(i) for i in range(6,0,-1)]):\n",
    "    data = pd.read_hdf(parent_dir + '/OutputData/ADAS/FCW/data/highD/'+loc+'.h5', key='data')\n",
    "    data_all.append(data)\n",
    "data_all = pd.concat(data_all).reset_index(drop=True)\n",
    "\n",
    "data_all['s'] = abs(data_all['pre_position'] - data_all['position']) - data_all['pre_length'] # net distance\n",
    "data_all['v'] = data_all['speed'] - data_all['pre_speed']\n",
    "samples_highD = data_all[(data_all['s']>0)&(data_all['v']>0)]\n",
    "samples_highD.to_hdf(parent_dir + '/OutputData/ADAS/FCW/samples/samples_highD.h5', key='data', mode='w')"
   ]
  },
  {
   "cell_type": "code",
   "execution_count": 4,
   "metadata": {},
   "outputs": [
    {
     "name": "stdout",
     "output_type": "stream",
     "text": [
      "The percentage of TTCs that are inf:  0.0\n"
     ]
    }
   ],
   "source": [
    "## Determine conflicts\n",
    "samples_highD['ttc'] = samples_highD['s']/samples_highD['v']\n",
    "print('The percentage of TTCs that are inf: ', np.isinf(samples_highD['ttc']).sum()/len(samples_highD))\n",
    "samples_highD = determine_conflicts(samples_highD.copy())"
   ]
  },
  {
   "cell_type": "code",
   "execution_count": 7,
   "metadata": {},
   "outputs": [
    {
     "data": {
      "text/plain": [
       "(0.0, 20000.0)"
      ]
     },
     "execution_count": 7,
     "metadata": {},
     "output_type": "execute_result"
    },
    {
     "data": {
      "image/png": "[encoded data removed]",
      "text/plain": [
       "<Figure size 640x480 with 1 Axes>"
      ]
     },
     "metadata": {},
     "output_type": "display_data"
    }
   ],
   "source": [
    "samples_highD.v.hist(bins=np.linspace(0,15,100))\n",
    "plt.ylim(0,20000)"
   ]
  },
  {
   "cell_type": "code",
   "execution_count": 11,
   "metadata": {},
   "outputs": [
    {
     "name": "stdout",
     "output_type": "stream",
     "text": [
      "--- 5.6 ----\n",
      "--- 76 ----\n"
     ]
    }
   ],
   "source": [
    "## Sample data\n",
    "samples = Grouping(samples_highD, 15000)\n",
    "samples = samples.sort_values(by='v').reset_index(drop=True)\n",
    "print('--- '+str(len(samples[samples.round_v<=10].round_v.unique()))+' ----')\n",
    "samples[['s','v','conflict_1','conflict_2']].to_hdf(parent_dir + '/OutputData/ADAS/FCW/samples/samples_toinfer_highD.h5', key='samples')"
   ]
  },
  {
   "cell_type": "code",
   "execution_count": 12,
   "metadata": {},
   "outputs": [
    {
     "data": {
      "image/png": "[encoded data removed]",
      "text/plain": [
       "<Figure size 500x300 with 1 Axes>"
      ]
     },
     "metadata": {},
     "output_type": "display_data"
    }
   ],
   "source": [
    "samples = pd.read_hdf(parent_dir + '/OutputData/ADAS/FCW/samples/samples_toinfer_highD.h5', key='samples')\n",
    "\n",
    "for speed in samples.round_v.unique():\n",
    "    cfdata = samples[samples.round_v==speed]\n",
    "    fig, ax = plt.subplots(figsize=(5,3))\n",
    "\n",
    "    freq1, bins = np.histogram(cfdata.s, bins=np.arange(0,100,1.5))\n",
    "    ax.bar((bins[1:]+bins[:-1])/2, freq1/freq1.max(), width=1.5, alpha=0.5)\n",
    "\n",
    "    cfdata = cfdata[cfdata['conflict_2']]\n",
    "    freq2, bins = np.histogram(cfdata.s, bins=np.arange(0,100,1.5))\n",
    "    ax.bar((bins[1:]+bins[:-1])/2, freq2/freq1.max(), width=1.5, alpha=0.5)\n",
    "    \n",
    "    ax.set_title('Relative speed = %.1f m/s'%speed)\n",
    "    ax.set_xlabel('Distance headway (m)')\n",
    "    ax.set_ylabel('Relative frequency')\n",
    "    clear_output(wait=True)\n",
    "    display(fig)\n",
    "    systime.sleep(0.1)\n",
    "    plt.close()"
   ]
  },
  {
   "cell_type": "markdown",
   "metadata": {},
   "source": [
    "# 3 FreewayB"
   ]
  },
  {
   "cell_type": "code",
   "execution_count": 13,
   "metadata": {},
   "outputs": [
    {
     "name": "stderr",
     "output_type": "stream",
     "text": [
      "100%|██████████| 7/7 [00:09<00:00,  1.41s/it]\n"
     ]
    }
   ],
   "source": [
    "## Load data\n",
    "data_all = []\n",
    "for loc in tqdm(['FreewayB_0'+str(i) for i in range(7,0,-1)]):\n",
    "    data = pd.read_hdf(parent_dir + '/OutputData/ADAS/FCW/data/FreewayB/'+loc+'.h5', key='data')\n",
    "    data_all.append(data)\n",
    "data_all = pd.concat(data_all).reset_index(drop=True)\n",
    "\n",
    "data_all['s'] = abs(data_all['pre_position'] - data_all['position']) - data_all['pre_length'] # net distance\n",
    "data_all['v'] = data_all['speed'] - data_all['pre_speed']\n",
    "samples_FreewayB = data_all[(data_all['s']>0)&(data_all['v']>0)]\n",
    "samples_FreewayB.to_hdf(parent_dir + '/OutputData/ADAS/FCW/samples/samples_FreewayB.h5', key='data', mode='w')"
   ]
  },
  {
   "cell_type": "code",
   "execution_count": 14,
   "metadata": {},
   "outputs": [
    {
     "name": "stdout",
     "output_type": "stream",
     "text": [
      "The percentage of TTCs that are inf:  0.0\n"
     ]
    }
   ],
   "source": [
    "## Determine conflicts\n",
    "samples_FreewayB['ttc'] = samples_FreewayB['s']/samples_FreewayB['v']\n",
    "print('The percentage of TTCs that are inf: ', np.isinf(samples_FreewayB['ttc']).sum()/len(samples_FreewayB))\n",
    "samples_FreewayB = determine_conflicts(samples_FreewayB.copy())"
   ]
  },
  {
   "cell_type": "code",
   "execution_count": 15,
   "metadata": {},
   "outputs": [
    {
     "data": {
      "text/plain": [
       "(0.0, 20000.0)"
      ]
     },
     "execution_count": 15,
     "metadata": {},
     "output_type": "execute_result"
    },
    {
     "data": {
      "image/png": "[encoded data removed]",
      "text/plain": [
       "<Figure size 640x480 with 1 Axes>"
      ]
     },
     "metadata": {},
     "output_type": "display_data"
    }
   ],
   "source": [
    "samples_FreewayB.v.hist(bins=np.linspace(0,15,100))\n",
    "plt.ylim(0,20000)"
   ]
  },
  {
   "cell_type": "code",
   "execution_count": 30,
   "metadata": {},
   "outputs": [
    {
     "name": "stdout",
     "output_type": "stream",
     "text": [
      "--- 2.8 ----\n",
      "--- 40 ----\n"
     ]
    }
   ],
   "source": [
    "## Sample data\n",
    "samples = Grouping(samples_FreewayB, 7500)\n",
    "samples = samples.sort_values(by='v').reset_index(drop=True)\n",
    "print('--- '+str(len(samples[samples.round_v<=10].round_v.unique()))+' ----')\n",
    "# samples[['s','v','conflict_1','conflict_2']].to_hdf(parent_dir + '/OutputData/ADAS/FCW/samples/samples_toinfer_FreewayB.h5', key='samples')"
   ]
  },
  {
   "cell_type": "code",
   "execution_count": 31,
   "metadata": {},
   "outputs": [
    {
     "data": {
      "image/png": "[encoded data removed]",
      "text/plain": [
       "<Figure size 500x300 with 1 Axes>"
      ]
     },
     "metadata": {},
     "output_type": "display_data"
    }
   ],
   "source": [
    "# samples = pd.read_hdf(parent_dir + '/OutputData/ADAS/FCW/samples/samples_toinfer_FreewayB.h5', key='samples')\n",
    "\n",
    "for speed in samples.round_v.unique():\n",
    "    cfdata = samples[samples.round_v==speed]\n",
    "    fig, ax = plt.subplots(figsize=(5,3))\n",
    "\n",
    "    freq1, bins = np.histogram(cfdata.s, bins=np.arange(0,100,1.5))\n",
    "    ax.bar((bins[1:]+bins[:-1])/2, freq1/freq1.max(), width=1.5, alpha=0.5)\n",
    "\n",
    "    cfdata = cfdata[cfdata['conflict_1']]\n",
    "    freq2, bins = np.histogram(cfdata.s, bins=np.arange(0,100,1.5))\n",
    "    ax.bar((bins[1:]+bins[:-1])/2, freq2/freq1.max(), width=1.5, alpha=0.5)\n",
    "    \n",
    "    ax.set_title('Relative speed = %.1f m/s'%speed)\n",
    "    ax.set_xlabel('Distance headway (m)')\n",
    "    ax.set_ylabel('Relative frequency')\n",
    "    clear_output(wait=True)\n",
    "    display(fig)\n",
    "    systime.sleep(0.1)\n",
    "    plt.close()"
   ]
  },
  {
   "cell_type": "code",
   "execution_count": null,
   "metadata": {},
   "outputs": [],
   "source": []
  }
 ],
 "metadata": {
  "kernelspec": {
   "display_name": "base",
   "language": "python",
   "name": "python3"
  },
  "language_info": {
   "codemirror_mode": {
    "name": "ipython",
    "version": 3
   },
   "file_extension": ".py",
   "mimetype": "text/x-python",
   "name": "python",
   "nbconvert_exporter": "python",
   "pygments_lexer": "ipython3",
   "version": "3.9.18"
  },
  "orig_nbformat": 4
 },
 "nbformat": 4,
 "nbformat_minor": 2
}
