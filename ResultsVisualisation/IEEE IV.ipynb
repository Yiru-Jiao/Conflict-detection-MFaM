{
 "cells": [
  {
   "attachments": {},
   "cell_type": "markdown",
   "id": "d3008bb0-8279-4f68-9b7b-24fef7269b5a",
   "metadata": {},
   "source": [
    "# This notebook gives results to validate MFaM."
   ]
  },
  {
   "attachments": {},
   "cell_type": "markdown",
   "id": "1430395d-dce2-4e0a-940a-042f53b2aade",
   "metadata": {},
   "source": [
    "## Import libaries"
   ]
  },
  {
   "cell_type": "code",
   "execution_count": null,
   "id": "b41afb7a-b3f9-41f6-9f07-3725033ea842",
   "metadata": {},
   "outputs": [],
   "source": [
    "import mfam\n",
    "from tqdm import tqdm\n",
    "import pandas as pd\n",
    "import numpy as np\n",
    "import scipy.stats as stats\n",
    "import matplotlib as mpl\n",
    "import matplotlib.pyplot as plt\n",
    "font = {'family' : 'Arial',\n",
    "        'size'   : 8.5}\n",
    "plt.rc('font', **font)\n",
    "plt.rcParams['mathtext.fontset'] = 'cm'\n",
    "import matplotlib.cm as cm\n",
    "# from IPython.display import display, clear_output\n",
    "import warnings\n",
    "warnings.filterwarnings('ignore')\n",
    "\n",
    "parent_dir = 'localdata/'\n",
    "fig_path = r'C:/SURFdrive/PhD progress/PhDResearch/4_FCW/IV/Figures/'"
   ]
  },
  {
   "attachments": {},
   "cell_type": "markdown",
   "id": "f241f05b-b795-4fee-b87d-af17e51d7bb6",
   "metadata": {},
   "source": [
    "## Global functions"
   ]
  },
  {
   "cell_type": "code",
   "execution_count": null,
   "id": "f4abee66-3f8e-4c6a-a444-cf850be1e70e",
   "metadata": {},
   "outputs": [],
   "source": [
    "def lightc(colorname, alpha=1.0):\n",
    "    color = mpl.colors.to_rgb(colorname)\n",
    "    return (color[0], color[1], color[2], alpha)\n",
    "\n",
    "\n",
    "def indicate_conflict(samples, parameters, ctype, alpha):\n",
    "    conflicts = np.zeros(len(samples), dtype=bool)\n",
    "    for roundv in parameters['round_v'].unique():\n",
    "        threshold = parameters[(parameters['alpha']==alpha)&(parameters['ctype']==ctype)&(parameters['round_v']==roundv)]['threshold'].values[0]\n",
    "        conflicts[samples['round_v']==roundv] = samples.loc[samples['round_v']==roundv, 's']<=threshold\n",
    "    return conflicts\n",
    "\n",
    "\n",
    "def confusion_matrix(indicated, conflict):\n",
    "    true_positive = (indicated&conflict).sum()\n",
    "    false_positive = (indicated&(~conflict)).sum()\n",
    "    true_negative = ((~indicated)&(~conflict)).sum()\n",
    "    false_negative = ((~indicated)&conflict).sum()\n",
    "    sum_all = true_positive + false_positive + true_negative + false_negative\n",
    "    return true_positive, false_positive, true_negative, false_negative, sum_all\n",
    "\n",
    "\n",
    "def evaluate_detection(samples, parameters, conflict, dataset):\n",
    "    results = []\n",
    "    num_conflicts = samples[conflict].sum()\n",
    "\n",
    "    for ttc_star in tqdm(np.arange(2.1,4,0.1), desc='ttc_star'):\n",
    "        indicated_conflicts = (samples['s']<=(ttc_star*samples['v'])).values\n",
    "        evaluation = confusion_matrix(indicated_conflicts, samples[conflict].values)\n",
    "        tp, fp, tn, fn, sum_all = evaluation\n",
    "        results.append([dataset, conflict, round(ttc_star,2), tp, fp, tn, fn, sum_all, num_conflicts])\n",
    "\n",
    "    for alpha in tqdm(parameters['alpha'].unique(), desc='alpha'):\n",
    "        indicated_conflicts = indicate_conflict(samples, parameters, conflict, alpha)\n",
    "        evaluation = confusion_matrix(indicated_conflicts, samples[conflict].values)\n",
    "        tp, fp, tn, fn, sum_all = evaluation\n",
    "        results.append([dataset, conflict, round(alpha,2), tp, fp, tn, fn, sum_all, num_conflicts])\n",
    "\n",
    "    results = pd.DataFrame(results, columns=['dataset','conflict','threshold','tp','fp','tn','fn','sum_all','num_conflicts'])\n",
    "    return results"
   ]
  },
  {
   "cell_type": "markdown",
   "id": "f2cc58e3",
   "metadata": {},
   "source": [
    "## Fig. 1 Illustration of the trade-off between missed and false alarms"
   ]
  },
  {
   "cell_type": "code",
   "execution_count": null,
   "id": "538c4430",
   "metadata": {},
   "outputs": [],
   "source": [
    "fig, axes = plt.subplots(1,2,figsize=(5.5,1.2),constrained_layout=True)\n",
    "for ax in axes:\n",
    "    for spine in ax.spines.values():\n",
    "        spine.set_visible(False)\n",
    "    ax.set_yticks([])\n",
    "    ax.set_xticks([])\n",
    "\n",
    "x = np.linspace(-2,11,1000)\n",
    "nc = stats.norm.pdf(x, 5, 1.6)\n",
    "c = stats.norm.pdf(x,1,0.7)/5\n",
    "\n",
    "axes[0].plot(x, c, color='tab:blue', lw=1.)\n",
    "axes[0].plot(x, nc, color='tab:orange', lw=1.)\n",
    "axes[0].plot([1.6,1.6],[-0.01,0.25], color='k', lw=0.7, ls='--')\n",
    "\n",
    "axes[0].fill_between(x, np.zeros_like(x), nc, color='tab:orange', ec='none', alpha=0.3)\n",
    "nc[x<1.6] = 0\n",
    "axes[0].fill_between(x, np.zeros_like(x), nc, color=lightc('tab:orange',0.5), ec='none')\n",
    "axes[1].fill_between(x, np.zeros_like(x), nc, color=lightc('tab:orange',0.5), ec='tab:orange', label='Non-conflict')\n",
    "\n",
    "axes[0].fill_between(x, np.zeros_like(x), c, color='tab:blue', ec='none', alpha=0.3)\n",
    "c[x>=1.6] = 0\n",
    "axes[0].fill_between(x, np.zeros_like(x), c, color=lightc('tab:blue',0.5), ec='none')\n",
    "axes[1].fill_between(x, np.zeros_like(x), c, color=lightc('tab:blue',0.5), ec='tab:blue', label='Conflict')\n",
    "\n",
    "axes[0].set_xlabel('$s$ (m)', labelpad=0)\n",
    "axes[0].text(1.5, 0.255, '$s^*$', ha='left', va='bottom', fontsize=8)\n",
    "\n",
    "handles, labels = axes[1].get_legend_handles_labels()\n",
    "handles = [handles[1], handles[0]]\n",
    "labels = [labels[1], labels[0]]\n",
    "axes[0].legend(handles, labels, loc='lower center', ncol=2, bbox_to_anchor=(0.5,1.15), frameon=False, fontsize=8)"
   ]
  },
  {
   "cell_type": "code",
   "execution_count": null,
   "id": "9e031427",
   "metadata": {},
   "outputs": [],
   "source": [
    "fig.savefig(fig_path+'sen_spe_explanation.pdf', bbox_inches='tight', dpi=600)"
   ]
  },
  {
   "attachments": {},
   "cell_type": "markdown",
   "id": "424b7b05-11ca-4474-8b04-50b6c667f2dd",
   "metadata": {},
   "source": [
    "# Results"
   ]
  },
  {
   "cell_type": "markdown",
   "id": "31b8b4f7",
   "metadata": {},
   "source": [
    "## Load data"
   ]
  },
  {
   "cell_type": "code",
   "execution_count": null,
   "id": "7ea7df1b",
   "metadata": {},
   "outputs": [],
   "source": [
    "samples_FreewayB = pd.read_hdf(parent_dir + 'samples/samples_FreewayB.h5', key='data')\n",
    "parameters_FreewayB = pd.read_csv(parent_dir + 'space/parameters_FreewayB.csv')\n",
    "\n",
    "results_FreewayB_I = evaluate_detection(samples_FreewayB, parameters_FreewayB, 'conflict_1', 'FreewayB_1')\n",
    "results_FreewayB_II = evaluate_detection(samples_FreewayB, parameters_FreewayB, 'conflict_2', 'FreewayB_2')\n",
    "results_FreewayB_III = evaluate_detection(samples_FreewayB, parameters_FreewayB, 'conflict_3', 'FreewayB_3')\n",
    "\n",
    "results = pd.concat([results_FreewayB_I, results_FreewayB_II, results_FreewayB_III], axis=0)\n",
    "results.to_csv(parent_dir + 'results.csv', index=False)"
   ]
  },
  {
   "cell_type": "markdown",
   "id": "cbd28ca8",
   "metadata": {},
   "source": [
    "## Fig. 3 An example for missed and false alarm minimisation"
   ]
  },
  {
   "cell_type": "code",
   "execution_count": null,
   "id": "7c7df91f",
   "metadata": {},
   "outputs": [],
   "source": [
    "roundvs = samples_FreewayB['round_v'].unique()\n",
    "probs, smaxc = mfam.spacing_inference(samples_FreewayB, roundvs, 'FreewayB')\n",
    "prob_s, prob_sc1, prob_sc2 = probs\n",
    "smax_c1, smax_c2, c1, c2 = smaxc"
   ]
  },
  {
   "cell_type": "code",
   "execution_count": null,
   "id": "52c167ed",
   "metadata": {},
   "outputs": [],
   "source": [
    "ctype = 'conflict_2'\n",
    "if ctype == 'conflict_1':\n",
    "    prob_sc = prob_sc1\n",
    "    smax_c = smax_c1\n",
    "    c = c1\n",
    "elif ctype == 'conflict_2':\n",
    "    prob_sc = prob_sc2\n",
    "    smax_c = smax_c2\n",
    "    c = c2\n",
    "    \n",
    "idx = 34\n",
    "# print(roundvs[idx])\n",
    "prob_s_rv = prob_s[roundvs[idx]]\n",
    "prob_sc_rv = prob_sc[roundvs[idx]]\n",
    "smax = smax_c[idx]\n",
    "c_rv = c[idx]\n",
    "range_sc, pma, pfa = mfam.solve_threshold(prob_s_rv, prob_sc_rv, smax, c_rv)"
   ]
  },
  {
   "cell_type": "code",
   "execution_count": null,
   "id": "958960a5",
   "metadata": {},
   "outputs": [],
   "source": [
    "fig, axes = plt.subplots(1,2, figsize=(3.5,1.), sharey=True)\n",
    "\n",
    "axes[0].plot(range_sc, pma, label='$\\mathrm{PMA}(s)$', color='r', lw=0.85)\n",
    "axes[0].plot(range_sc, pfa, label='$\\mathrm{PFA}(s)$', color='b', lw=0.85, ls='-.')\n",
    "axes[0].set_xlabel(r'$s$ (m)', labelpad=0.)\n",
    "\n",
    "alpha_list = np.arange(0.02,1.,0.02)\n",
    "color_list = cm.turbo(np.linspace(0,1,len(alpha_list)))\n",
    "xticks = []\n",
    "colors = []\n",
    "for i in range(len(alpha_list)):\n",
    "    alpha = round(alpha_list[i],2)\n",
    "    color = color_list[i]\n",
    "    axes[1].plot(range_sc, alpha*pma + (1-alpha)*pfa, color=color, lw=0.3, alpha=0.3)\n",
    "    if alpha in [0.2,0.5,0.8]:\n",
    "        weighted_sum = alpha*pma + (1-alpha)*pfa\n",
    "        threshold = range_sc[np.argmin(weighted_sum)]\n",
    "        axes[1].plot(range_sc, weighted_sum, label='$\\\\alpha\\mathrm{PMA}+(1-\\\\alpha)\\mathrm{PFA}$', color=color, lw=0.85, ls='--', zorder=300)\n",
    "        axes[1].scatter(threshold, weighted_sum.min(), fc=color, ec=color, marker='o', s=2, zorder=400, lw=0.5)\n",
    "        axes[1].plot([threshold,threshold],[-0.1,weighted_sum.min()], color=color, lw=0.85, ls='-', zorder=300)\n",
    "        axes[1].set_xlabel(r'$s$ (m)', labelpad=0.)\n",
    "        xticks.append(round(threshold,2))\n",
    "        colors.append(color)\n",
    "axes[1].set_ylim(-0.05,1.05)\n",
    "axes[1].set_xticks([0,20])\n",
    "axes[1].text(7,-0.33,str(xticks[0]), ha='center', va='bottom', fontsize=8.5, color=colors[0])\n",
    "axes[1].text(11.2,-0.33,str(xticks[1]), ha='center', va='bottom', fontsize=8.5, color=colors[1])\n",
    "axes[1].text(15.5,-0.33,str(xticks[2]), ha='center', va='bottom', fontsize=8.5, color=colors[2])\n",
    "\n",
    "sm = plt.cm.ScalarMappable(cmap=cm.turbo, norm=plt.Normalize(vmin=0, vmax=1))\n",
    "ax = fig.add_axes([0.92, 0.12, 0.015, 0.75])\n",
    "cbar = fig.colorbar(sm, cax=ax)\n",
    "cbar.set_ticks([0,0.2,0.5,0.8,1])\n",
    "cbar.set_label(r'Weight for PMA ($\\alpha$)')\n",
    "\n",
    "# legends\n",
    "handle1, label1 = axes[0].get_legend_handles_labels()\n",
    "handle2, label2 = axes[1].get_legend_handles_labels()\n",
    "handles = handle1 + handle2[:1]\n",
    "labels = label1 + label2[:1]\n",
    "fig.legend(handles, labels, loc='lower center', bbox_to_anchor=(0.53, -0.5), ncol=3, frameon=False)"
   ]
  },
  {
   "cell_type": "code",
   "execution_count": null,
   "id": "3ae90514",
   "metadata": {},
   "outputs": [],
   "source": [
    "fig.savefig(fig_path + 'threshold_selection.pdf', bbox_inches='tight', dpi=600)"
   ]
  },
  {
   "cell_type": "markdown",
   "id": "d49207ae",
   "metadata": {},
   "source": [
    "## Fig. 4-6 Type I/II/III conflict detection using TTC and MFaM"
   ]
  },
  {
   "cell_type": "code",
   "execution_count": null,
   "id": "82e74396",
   "metadata": {},
   "outputs": [],
   "source": [
    "results = pd.read_csv(parent_dir + 'results.csv')"
   ]
  },
  {
   "cell_type": "code",
   "execution_count": null,
   "id": "534a6c3f",
   "metadata": {},
   "outputs": [],
   "source": [
    "def scatter_validation(results, dataset):\n",
    "    fig, axes = plt.subplots(2,3, figsize=(3.5,2.5), sharey='row', sharex='col', gridspec_kw={'width_ratios':[1,0.05,1]}, constrained_layout=True)\n",
    "    for ax in [axes[0,1], axes[1,1]]:\n",
    "        ax.axis('off')\n",
    "\n",
    "    if dataset[-1]=='1':\n",
    "        ctype = 'Type I: complete information and homogeneous conflicts'\n",
    "    elif dataset[-1]=='2':\n",
    "        ctype = 'Type II: complete information and heterogeneous conflicts'\n",
    "    elif dataset[-1]=='3':\n",
    "        ctype = 'Type III: incomplete information and heterogeneous conflicts'\n",
    "\n",
    "    axes[0,1].set_title(ctype, fontsize=9, pad=15)\n",
    "    axes[0,0].set_ylabel('Number')\n",
    "    axes[1,0].set_ylabel('Percentage (%)')\n",
    "    axes[0,0].set_title('TTC', fontsize=8.5, pad=3)\n",
    "    axes[0,2].set_title('MFaM', fontsize=8.5, pad=3)\n",
    "    axes[1,0].set_xlabel('Threshold (TTC*)', labelpad=2)\n",
    "    axes[1,2].set_xlabel('Weight for missed alarms ($\\\\alpha$)', labelpad=0.5)\n",
    "\n",
    "    \n",
    "    for axid,tmin,tmax in zip([(0,0),(0,2)],[2,0],[4,1]):\n",
    "        axes[axid].set_yticks([])\n",
    "        axes[axid].set_xlim(tmin-(tmax-tmin)*0.03,tmax+(tmax-tmin)*0.03)\n",
    "        result = results[(results['dataset']==dataset)&(results['threshold']>=tmin)&(results['threshold']<=tmax)]\n",
    "        axes[axid].plot(result['threshold'], result['tp'], 'o-', lw=0.8, mew=0.8, markersize=3, color='k', mfc='none', label='Detected conflict moments')\n",
    "        axes[axid].plot(result['threshold'], result['num_conflicts'], lw=0.8, color='k', ls='--', label='Total conflict moments')\n",
    "        total_conflicts = result['num_conflicts'].iloc[0]\n",
    "        axes[axid].text(tmin+(tmax-tmin)*0.03, total_conflicts, str(total_conflicts), fontsize=8, color='k', ha='left', va='bottom')\n",
    "        min_conflicts = result['tp'].min()\n",
    "        axes[axid].text(tmin+(tmax-tmin)*0.03, axes[axid].get_ylim()[0]-(axes[axid].get_ylim()[1]-axes[axid].get_ylim()[0])*0.03, \n",
    "                        str(min_conflicts), fontsize=8, color='k', ha='left', va='top')\n",
    "    for axid in [(0,0),(0,2)]:\n",
    "        ax = axes[axid]\n",
    "        ax.set_ylim(ax.get_ylim()[0]-(ax.get_ylim()[1]-ax.get_ylim()[0])*0.08, ax.get_ylim()[1]+(ax.get_ylim()[1]-ax.get_ylim()[0])*0.06)\n",
    "    \n",
    "    for axid,tmin,tmax in zip([(1,0),(1,2)],[2,0],[4,1]):\n",
    "        axes[axid].set_yticks([])\n",
    "        axes[axid].set_xlim(tmin-(tmax-tmin)*0.08,tmax+(tmax-tmin)*0.08)\n",
    "\n",
    "        result = results[(results['dataset']==dataset)&(results['threshold']>=tmin)&(results['threshold']<=tmax)]\n",
    "        axes[axid].plot(result['threshold'], result['fn']/(result['tp']+result['fn'])*100, 's-', lw=0.8, mew=0.8, markersize=3, color=lightc('r',1), mfc='none', label='Missed alarms')\n",
    "        val_max, val_min = round((result['fn']/(result['tp']+result['fn'])*100).max(),2), round((result['fn']/(result['tp']+result['fn'])*100).min(),2)\n",
    "        pos_max, pos_min = val_max+(val_max-val_min)*0.05, val_min-(val_max-val_min)*0.05\n",
    "        axes[axid].text(tmin+(tmax-tmin)*0.05, pos_max, val_max, fontsize=8, color=lightc('r',1), ha='center', va='bottom')\n",
    "        axes[axid].text(tmax-(tmax-tmin)*0.05, pos_min, val_min, fontsize=8, color=lightc('r',1), ha='center', va='top')\n",
    "\n",
    "        # result = result[(result['fn']/(result['tp']+result['fn']))<0.006].iloc[0:1]\n",
    "        # # result = result[(result['fn']/(result['tp']+result['fn']))<0.694].iloc[0:1]\n",
    "        # threshold = result['threshold'].values[0]\n",
    "        # axes[axid].plot(result['threshold'], result['fn']/(result['tp']+result['fn'])*100, 's-', lw=0.8, mew=0.8, markersize=3, color='r', mfc='none', label='Missed alarms')\n",
    "        # val = round((result['fn']/(result['tp']+result['fn'])*100).max(),2)\n",
    "        # pos = val-(val_max-val_min)*0.1\n",
    "        # axes[axid].text(threshold, pos, val, fontsize=8, color='r', ha='center', va='top')\n",
    "\n",
    "        result = results[(results['dataset']==dataset)&(results['threshold']>=tmin)&(results['threshold']<=tmax)]\n",
    "        axes[axid].plot(result['threshold'], result['fp']/(result['tp']+result['fp'])*100, 'D-', lw=0.8, mew=0.8, markersize=2.5, color=lightc('b',1), mfc='none', label='False alarms')\n",
    "        val_max, val_min = round((result['fp']/(result['tp']+result['fp'])*100).max(),2), round((result['fp']/(result['tp']+result['fp'])*100).min(),2)\n",
    "        pos_max, pos_min = val_max+(val_max-val_min)*0.05, val_min-(val_max-val_min)*0.05\n",
    "        axes[axid].text(tmin+(tmax-tmin)*0.05, pos_min, val_min, fontsize=8, color=lightc('b',1), ha='center', va='top')\n",
    "        axes[axid].text(tmax-(tmax-tmin)*0.05, pos_max, val_max, fontsize=8, color=lightc('b',1), ha='center', va='bottom')\n",
    "\n",
    "        # result = result[(result['fn']/(result['tp']+result['fn']))<0.006].iloc[0:1]\n",
    "        # # result = result[(result['fn']/(result['tp']+result['fn']))<0.694].iloc[0:1]\n",
    "        # threshold = result['threshold'].values[0]\n",
    "        # axes[axid].plot(result['threshold'], result['fp']/(result['tp']+result['fp'])*100, 'D-', lw=0.8, mew=0.8, markersize=2.5, color='b', mfc='none', label='False alarms')\n",
    "        # val = round((result['fp']/(result['tp']+result['fp'])*100).max(),2)\n",
    "        # pos = val+(val_max-val_min)*0.1\n",
    "        # axes[axid].text(threshold, pos, val, fontsize=8, color='b', ha='center', va='bottom')\n",
    "        \n",
    "\n",
    "    for axid in [(1,0),(1,2)]:\n",
    "        ax = axes[axid]\n",
    "        ax.set_ylim(ax.get_ylim()[0]-(ax.get_ylim()[1]-ax.get_ylim()[0])*0.07, ax.get_ylim()[1]+(ax.get_ylim()[1]-ax.get_ylim()[0])*0.08)\n",
    "\n",
    "    handle0, label0 = axes[0,0].get_legend_handles_labels()\n",
    "    handle1, label1 = axes[1,0].get_legend_handles_labels()\n",
    "    fig.legend([handle0[0], handle1[0], handle0[1], handle1[1]],\n",
    "               [label0[0], label1[0], label0[1], label1[1]],\n",
    "               loc='lower center', bbox_to_anchor=(0.5,-0.15), ncol=2, fontsize=8.5, frameon=False)\n",
    "    \n",
    "    return fig, axes"
   ]
  },
  {
   "cell_type": "code",
   "execution_count": null,
   "id": "cd6e7c9e",
   "metadata": {},
   "outputs": [],
   "source": [
    "fig, axes = scatter_validation(results, 'FreewayB_1')"
   ]
  },
  {
   "cell_type": "code",
   "execution_count": null,
   "id": "0335c281",
   "metadata": {},
   "outputs": [],
   "source": [
    "fig.savefig(fig_path + 'scatter_validation_FreewayB_1.pdf', bbox_inches='tight')"
   ]
  },
  {
   "cell_type": "code",
   "execution_count": null,
   "id": "e115efdb",
   "metadata": {},
   "outputs": [],
   "source": [
    "fig, axes = scatter_validation(results, 'FreewayB_2')"
   ]
  },
  {
   "cell_type": "code",
   "execution_count": null,
   "id": "c366b6fb",
   "metadata": {},
   "outputs": [],
   "source": [
    "fig.savefig(fig_path+'scatter_validation_FreewayB_2.pdf', bbox_inches='tight')"
   ]
  },
  {
   "cell_type": "code",
   "execution_count": null,
   "id": "683a9886",
   "metadata": {},
   "outputs": [],
   "source": [
    "fig, axes = scatter_validation(results, 'FreewayB_3')"
   ]
  },
  {
   "cell_type": "code",
   "execution_count": null,
   "id": "6c246cf3",
   "metadata": {},
   "outputs": [],
   "source": [
    "fig.savefig(fig_path+'scatter_validation_FreewayB_3.pdf', bbox_inches='tight')"
   ]
  },
  {
   "cell_type": "markdown",
   "id": "05df710c",
   "metadata": {},
   "source": [
    "## Fig. 7 Trade-off between miss rate and false rate in conflict detection"
   ]
  },
  {
   "cell_type": "code",
   "execution_count": null,
   "id": "be992c42",
   "metadata": {},
   "outputs": [],
   "source": [
    "fig, axes = plt.subplots(1,3,figsize=(3.5,1.25), constrained_layout=True)\n",
    "\n",
    "titles = ['Type I', 'Type II', 'Type III']\n",
    "datasets = ['FreewayB_1', 'FreewayB_2', 'FreewayB_3']\n",
    "\n",
    "for ax, title, dataset in zip(axes, titles, datasets):\n",
    "    for tmin, tmax, color, marker in zip([2,0],[4,1],['tab:blue','tab:orange'], ['x','o']):\n",
    "        result = results[(results['dataset']==dataset)&(results['threshold']>=tmin)&(results['threshold']<=tmax)]\n",
    "        miss_rate = result['fn']/(result['tp']+result['fn'])*100\n",
    "        false_rate = result['fp']/(result['tp']+result['fp'])*100\n",
    "        ax.plot(miss_rate, false_rate, marker=marker, color=color, mfc='none', mew=0.8, markersize=3, lw=0.8)\n",
    "    ax.set_title(title, fontsize=8.5, pad=3)\n",
    "\n",
    "axes[0].set_ylabel('False rate (%)', labelpad=2)\n",
    "axes[1].set_xlabel('Miss rate (%)', labelpad=2)\n",
    "\n",
    "fig.legend([axes[0].lines[0], axes[0].lines[1]], ['TTC', 'MFaM'], loc='lower center', bbox_to_anchor=(0.53,-0.15), ncol=2, fontsize=8.5, frameon=False)"
   ]
  },
  {
   "cell_type": "code",
   "execution_count": null,
   "id": "e1904c14",
   "metadata": {},
   "outputs": [],
   "source": [
    "fig.savefig(fig_path+'scatter_validation.pdf', bbox_inches='tight')"
   ]
  }
 ],
 "metadata": {
  "kernelspec": {
   "display_name": "Python 3 (ipykernel)",
   "language": "python",
   "name": "python3"
  },
  "language_info": {
   "codemirror_mode": {
    "name": "ipython",
    "version": 3
   },
   "file_extension": ".py",
   "mimetype": "text/x-python",
   "name": "python",
   "nbconvert_exporter": "python",
   "pygments_lexer": "ipython3",
   "version": "3.9.17"
  }
 },
 "nbformat": 4,
 "nbformat_minor": 5
}
